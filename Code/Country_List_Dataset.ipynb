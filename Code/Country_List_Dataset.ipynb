{
 "cells": [
  {
   "cell_type": "markdown",
   "id": "0ed20b21",
   "metadata": {},
   "source": [
    "### Separating the datasets depending on countries and Continents\n",
    "###  Merging Datasets for status of Countries having net-zero CO2 Emission"
   ]
  },
  {
   "cell_type": "markdown",
   "id": "c8a3b124",
   "metadata": {},
   "source": [
    "### Diving Country Dataset"
   ]
  },
  {
   "cell_type": "code",
   "execution_count": 1,
   "id": "2ee07324",
   "metadata": {},
   "outputs": [],
   "source": [
    "import pandas as pd\n",
    "import numpy as np\n",
    "import matplotlib.pyplot as mp\n",
    "import seaborn as sns\n",
    "import io\n",
    "import requests\n",
    "from unidecode import unidecode\n",
    "%matplotlib inline"
   ]
  },
  {
   "cell_type": "code",
   "execution_count": 2,
   "id": "8ed7225b",
   "metadata": {},
   "outputs": [],
   "source": [
    "df = pd.read_csv('D:/DCU/CA682_DataVisualization/Dataset/Segragated_Datasets/Final_Cleaned_CO2Emssion.csv')"
   ]
  },
  {
   "cell_type": "code",
   "execution_count": 4,
   "id": "fd114255",
   "metadata": {},
   "outputs": [
    {
     "data": {
      "text/plain": [
       "(25110, 59)"
      ]
     },
     "execution_count": 4,
     "metadata": {},
     "output_type": "execute_result"
    }
   ],
   "source": [
    "df.shape"
   ]
  },
  {
   "cell_type": "code",
   "execution_count": 5,
   "id": "f20dfeda",
   "metadata": {},
   "outputs": [],
   "source": [
    "drop_index_list=[]\n",
    "for i in range(len(df['country'])):\n",
    "    if df['country'].iloc[i] == df['continent'].iloc[i]:\n",
    "        drop_index_list.append(i)"
   ]
  },
  {
   "cell_type": "code",
   "execution_count": 6,
   "id": "acf22731",
   "metadata": {},
   "outputs": [],
   "source": [
    "df.drop(df.index[drop_index_list], inplace=True)"
   ]
  },
  {
   "cell_type": "code",
   "execution_count": 7,
   "id": "f07eb24c",
   "metadata": {},
   "outputs": [
    {
     "data": {
      "text/plain": [
       "(22782, 59)"
      ]
     },
     "execution_count": 7,
     "metadata": {},
     "output_type": "execute_result"
    }
   ],
   "source": [
    "df.shape"
   ]
  },
  {
   "cell_type": "code",
   "execution_count": 9,
   "id": "b1b2eb60",
   "metadata": {},
   "outputs": [],
   "source": [
    "df.drop('continent',axis=1,inplace=True)"
   ]
  },
  {
   "cell_type": "code",
   "execution_count": 10,
   "id": "706cb89a",
   "metadata": {},
   "outputs": [
    {
     "data": {
      "text/plain": [
       "(22782, 58)"
      ]
     },
     "execution_count": 10,
     "metadata": {},
     "output_type": "execute_result"
    }
   ],
   "source": [
    "df.shape"
   ]
  },
  {
   "cell_type": "code",
   "execution_count": 11,
   "id": "958aa0a5",
   "metadata": {},
   "outputs": [],
   "source": [
    "df.to_csv('D:/DCU/CA682_DataVisualization/Cleaned_Datasets/OnlyCountry_CO2Emission.csv', index=False)"
   ]
  },
  {
   "cell_type": "markdown",
   "id": "f0775f04",
   "metadata": {},
   "source": [
    "### Merging NetZero Target Datasets"
   ]
  },
  {
   "cell_type": "code",
   "execution_count": 13,
   "id": "7a9b4841",
   "metadata": {},
   "outputs": [],
   "source": [
    "df1=pd.read_csv('D:/DCU/CA682_DataVisualization/Dataset/Raw_DataSets/net-zero-targets.csv')\n",
    "df2=pd.read_csv('D:/DCU/CA682_DataVisualization/Dataset/Raw_DataSets/net-zero-target-set.csv')"
   ]
  },
  {
   "cell_type": "code",
   "execution_count": 14,
   "id": "29c447f9",
   "metadata": {},
   "outputs": [],
   "source": [
    "df3=pd.merge(df1,df2,on='Entity')"
   ]
  },
  {
   "cell_type": "code",
   "execution_count": 15,
   "id": "ba3b48bb",
   "metadata": {},
   "outputs": [
    {
     "data": {
      "text/html": [
       "<div>\n",
       "<style scoped>\n",
       "    .dataframe tbody tr th:only-of-type {\n",
       "        vertical-align: middle;\n",
       "    }\n",
       "\n",
       "    .dataframe tbody tr th {\n",
       "        vertical-align: top;\n",
       "    }\n",
       "\n",
       "    .dataframe thead th {\n",
       "        text-align: right;\n",
       "    }\n",
       "</style>\n",
       "<table border=\"1\" class=\"dataframe\">\n",
       "  <thead>\n",
       "    <tr style=\"text-align: right;\">\n",
       "      <th></th>\n",
       "      <th>Entity</th>\n",
       "      <th>Code_x</th>\n",
       "      <th>Year_x</th>\n",
       "      <th>Status of net-zero target</th>\n",
       "      <th>Code_y</th>\n",
       "      <th>Year_y</th>\n",
       "      <th>Is there a net-zero target?</th>\n",
       "    </tr>\n",
       "  </thead>\n",
       "  <tbody>\n",
       "    <tr>\n",
       "      <th>0</th>\n",
       "      <td>Antigua and Barbuda</td>\n",
       "      <td>ATG</td>\n",
       "      <td>2040</td>\n",
       "      <td>In policy document</td>\n",
       "      <td>ATG</td>\n",
       "      <td>2040</td>\n",
       "      <td>Yes</td>\n",
       "    </tr>\n",
       "    <tr>\n",
       "      <th>1</th>\n",
       "      <td>Australia</td>\n",
       "      <td>AUS</td>\n",
       "      <td>2050</td>\n",
       "      <td>Pledge</td>\n",
       "      <td>AUS</td>\n",
       "      <td>2050</td>\n",
       "      <td>Yes</td>\n",
       "    </tr>\n",
       "    <tr>\n",
       "      <th>2</th>\n",
       "      <td>Austria</td>\n",
       "      <td>AUT</td>\n",
       "      <td>2040</td>\n",
       "      <td>In policy document</td>\n",
       "      <td>AUT</td>\n",
       "      <td>2040</td>\n",
       "      <td>Yes</td>\n",
       "    </tr>\n",
       "    <tr>\n",
       "      <th>3</th>\n",
       "      <td>Bahrain</td>\n",
       "      <td>BHR</td>\n",
       "      <td>2060</td>\n",
       "      <td>Pledge</td>\n",
       "      <td>BHR</td>\n",
       "      <td>2060</td>\n",
       "      <td>Yes</td>\n",
       "    </tr>\n",
       "    <tr>\n",
       "      <th>4</th>\n",
       "      <td>Barbados</td>\n",
       "      <td>BRB</td>\n",
       "      <td>2030</td>\n",
       "      <td>In policy document</td>\n",
       "      <td>BRB</td>\n",
       "      <td>2030</td>\n",
       "      <td>Yes</td>\n",
       "    </tr>\n",
       "    <tr>\n",
       "      <th>...</th>\n",
       "      <td>...</td>\n",
       "      <td>...</td>\n",
       "      <td>...</td>\n",
       "      <td>...</td>\n",
       "      <td>...</td>\n",
       "      <td>...</td>\n",
       "      <td>...</td>\n",
       "    </tr>\n",
       "    <tr>\n",
       "      <th>61</th>\n",
       "      <td>United Arab Emirates</td>\n",
       "      <td>ARE</td>\n",
       "      <td>2050</td>\n",
       "      <td>Pledge</td>\n",
       "      <td>ARE</td>\n",
       "      <td>2050</td>\n",
       "      <td>Yes</td>\n",
       "    </tr>\n",
       "    <tr>\n",
       "      <th>62</th>\n",
       "      <td>United Kingdom</td>\n",
       "      <td>GBR</td>\n",
       "      <td>2050</td>\n",
       "      <td>In law</td>\n",
       "      <td>GBR</td>\n",
       "      <td>2050</td>\n",
       "      <td>Yes</td>\n",
       "    </tr>\n",
       "    <tr>\n",
       "      <th>63</th>\n",
       "      <td>United States</td>\n",
       "      <td>USA</td>\n",
       "      <td>2050</td>\n",
       "      <td>Pledge</td>\n",
       "      <td>USA</td>\n",
       "      <td>2050</td>\n",
       "      <td>Yes</td>\n",
       "    </tr>\n",
       "    <tr>\n",
       "      <th>64</th>\n",
       "      <td>Uruguay</td>\n",
       "      <td>URY</td>\n",
       "      <td>2050</td>\n",
       "      <td>In policy document</td>\n",
       "      <td>URY</td>\n",
       "      <td>2050</td>\n",
       "      <td>Yes</td>\n",
       "    </tr>\n",
       "    <tr>\n",
       "      <th>65</th>\n",
       "      <td>Vietnam</td>\n",
       "      <td>VNM</td>\n",
       "      <td>2050</td>\n",
       "      <td>Pledge</td>\n",
       "      <td>VNM</td>\n",
       "      <td>2050</td>\n",
       "      <td>Yes</td>\n",
       "    </tr>\n",
       "  </tbody>\n",
       "</table>\n",
       "<p>66 rows × 7 columns</p>\n",
       "</div>"
      ],
      "text/plain": [
       "                  Entity Code_x  Year_x Status of net-zero target Code_y  \\\n",
       "0    Antigua and Barbuda    ATG    2040        In policy document    ATG   \n",
       "1              Australia    AUS    2050                    Pledge    AUS   \n",
       "2                Austria    AUT    2040        In policy document    AUT   \n",
       "3                Bahrain    BHR    2060                    Pledge    BHR   \n",
       "4               Barbados    BRB    2030        In policy document    BRB   \n",
       "..                   ...    ...     ...                       ...    ...   \n",
       "61  United Arab Emirates    ARE    2050                    Pledge    ARE   \n",
       "62        United Kingdom    GBR    2050                    In law    GBR   \n",
       "63         United States    USA    2050                    Pledge    USA   \n",
       "64               Uruguay    URY    2050        In policy document    URY   \n",
       "65               Vietnam    VNM    2050                    Pledge    VNM   \n",
       "\n",
       "    Year_y Is there a net-zero target?  \n",
       "0     2040                         Yes  \n",
       "1     2050                         Yes  \n",
       "2     2040                         Yes  \n",
       "3     2060                         Yes  \n",
       "4     2030                         Yes  \n",
       "..     ...                         ...  \n",
       "61    2050                         Yes  \n",
       "62    2050                         Yes  \n",
       "63    2050                         Yes  \n",
       "64    2050                         Yes  \n",
       "65    2050                         Yes  \n",
       "\n",
       "[66 rows x 7 columns]"
      ]
     },
     "execution_count": 15,
     "metadata": {},
     "output_type": "execute_result"
    }
   ],
   "source": [
    "df3"
   ]
  },
  {
   "cell_type": "code",
   "execution_count": 16,
   "id": "b595d639",
   "metadata": {},
   "outputs": [],
   "source": [
    "df4=df3.drop('Code_y',axis=1)"
   ]
  },
  {
   "cell_type": "code",
   "execution_count": 17,
   "id": "6b2cf1c3",
   "metadata": {},
   "outputs": [],
   "source": [
    "df5=df4.drop('Year_y',axis=1)"
   ]
  },
  {
   "cell_type": "code",
   "execution_count": 18,
   "id": "926c0b4a",
   "metadata": {},
   "outputs": [],
   "source": [
    "df6=df5.drop('Code_x',axis=1)"
   ]
  },
  {
   "cell_type": "code",
   "execution_count": 19,
   "id": "74cbb8db",
   "metadata": {},
   "outputs": [],
   "source": [
    "df6.to_csv('D:/DCU/CA682_DataVisualization/Cleaned_Datasets/CO2_NetZero_Target.csv',index=False)"
   ]
  },
  {
   "cell_type": "markdown",
   "id": "1d8c6da1",
   "metadata": {},
   "source": [
    "### Dividing Continent Dataset"
   ]
  },
  {
   "cell_type": "code",
   "execution_count": 20,
   "id": "fe9880c3",
   "metadata": {},
   "outputs": [],
   "source": [
    "df_continent = pd.read_csv('D:/DCU/CA682_DataVisualization/Dataset/Segragated_Datasets/Final_Cleaned_CO2Emssion.csv')"
   ]
  },
  {
   "cell_type": "code",
   "execution_count": 25,
   "id": "d2862a18",
   "metadata": {},
   "outputs": [],
   "source": [
    "df7= df_continent.drop('iso_code',axis=1)"
   ]
  },
  {
   "cell_type": "code",
   "execution_count": 26,
   "id": "736a2e5e",
   "metadata": {},
   "outputs": [],
   "source": [
    "df8=df7.drop('country',axis=1)"
   ]
  },
  {
   "cell_type": "code",
   "execution_count": 28,
   "id": "f42fdd6e",
   "metadata": {},
   "outputs": [
    {
     "data": {
      "text/plain": [
       "(25110, 57)"
      ]
     },
     "execution_count": 28,
     "metadata": {},
     "output_type": "execute_result"
    }
   ],
   "source": [
    "df8.shape"
   ]
  },
  {
   "cell_type": "code",
   "execution_count": 27,
   "id": "4e51280c",
   "metadata": {},
   "outputs": [],
   "source": [
    "df8.to_csv('D:/DCU/CA682_DataVisualization/Cleaned_Datasets/OnlyContinent_CO2Emission.csv',index=False)"
   ]
  }
 ],
 "metadata": {
  "kernelspec": {
   "display_name": "Python 3",
   "language": "python",
   "name": "python3"
  },
  "language_info": {
   "codemirror_mode": {
    "name": "ipython",
    "version": 3
   },
   "file_extension": ".py",
   "mimetype": "text/x-python",
   "name": "python",
   "nbconvert_exporter": "python",
   "pygments_lexer": "ipython3",
   "version": "3.8.8"
  }
 },
 "nbformat": 4,
 "nbformat_minor": 5
}
