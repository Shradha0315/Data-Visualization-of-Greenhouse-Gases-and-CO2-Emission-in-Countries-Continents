{
 "cells": [
  {
   "cell_type": "markdown",
   "id": "ade9809f",
   "metadata": {},
   "source": [
    "### Mapping Countries with Continents in Raw Dataset"
   ]
  },
  {
   "cell_type": "code",
   "execution_count": 1,
   "id": "5c05063d",
   "metadata": {},
   "outputs": [],
   "source": [
    "import pandas as pd\n",
    "import numpy as np\n",
    "import matplotlib.pyplot as mp\n",
    "import seaborn as sns\n",
    "import io\n",
    "import requests\n",
    "from unidecode import unidecode\n",
    "%matplotlib inline"
   ]
  },
  {
   "cell_type": "code",
   "execution_count": 2,
   "id": "e03262fb",
   "metadata": {},
   "outputs": [],
   "source": [
    "url=\"https://raw.githubusercontent.com/owid/co2-data/master/owid-co2-data.csv\""
   ]
  },
  {
   "cell_type": "code",
   "execution_count": 3,
   "id": "784ea3ce",
   "metadata": {},
   "outputs": [],
   "source": [
    "data=requests.get(url).content\n",
    "df=pd.read_csv(io.StringIO(data.decode('utf-8')))"
   ]
  },
  {
   "cell_type": "code",
   "execution_count": 4,
   "id": "e163f2ea",
   "metadata": {},
   "outputs": [
    {
     "data": {
      "text/plain": [
       "Index(['iso_code', 'country', 'year', 'co2', 'consumption_co2',\n",
       "       'co2_growth_prct', 'co2_growth_abs', 'trade_co2', 'co2_per_capita',\n",
       "       'consumption_co2_per_capita', 'share_global_co2', 'cumulative_co2',\n",
       "       'share_global_cumulative_co2', 'co2_per_gdp', 'consumption_co2_per_gdp',\n",
       "       'co2_per_unit_energy', 'coal_co2', 'cement_co2', 'flaring_co2',\n",
       "       'gas_co2', 'oil_co2', 'other_industry_co2', 'cement_co2_per_capita',\n",
       "       'coal_co2_per_capita', 'flaring_co2_per_capita', 'gas_co2_per_capita',\n",
       "       'oil_co2_per_capita', 'other_co2_per_capita', 'trade_co2_share',\n",
       "       'share_global_cement_co2', 'share_global_coal_co2',\n",
       "       'share_global_flaring_co2', 'share_global_gas_co2',\n",
       "       'share_global_oil_co2', 'share_global_other_co2',\n",
       "       'cumulative_cement_co2', 'cumulative_coal_co2',\n",
       "       'cumulative_flaring_co2', 'cumulative_gas_co2', 'cumulative_oil_co2',\n",
       "       'cumulative_other_co2', 'share_global_cumulative_cement_co2',\n",
       "       'share_global_cumulative_coal_co2',\n",
       "       'share_global_cumulative_flaring_co2',\n",
       "       'share_global_cumulative_gas_co2', 'share_global_cumulative_oil_co2',\n",
       "       'share_global_cumulative_other_co2', 'total_ghg', 'ghg_per_capita',\n",
       "       'methane', 'methane_per_capita', 'nitrous_oxide',\n",
       "       'nitrous_oxide_per_capita', 'population', 'gdp',\n",
       "       'primary_energy_consumption', 'energy_per_capita', 'energy_per_gdp'],\n",
       "      dtype='object')"
      ]
     },
     "execution_count": 4,
     "metadata": {},
     "output_type": "execute_result"
    }
   ],
   "source": [
    "df.columns"
   ]
  },
  {
   "cell_type": "code",
   "execution_count": 5,
   "id": "3aa16893",
   "metadata": {},
   "outputs": [
    {
     "data": {
      "text/plain": [
       "United Kingdom          271\n",
       "EU-28                   271\n",
       "Europe                  271\n",
       "World                   271\n",
       "Europe (excl. EU-27)    271\n",
       "                       ... \n",
       "Micronesia (country)     29\n",
       "Micronesia               27\n",
       "Wallis and Futuna        20\n",
       "Timor                    19\n",
       "Kosovo                   13\n",
       "Name: country, Length: 244, dtype: int64"
      ]
     },
     "execution_count": 5,
     "metadata": {},
     "output_type": "execute_result"
    }
   ],
   "source": [
    "df['country'].value_counts()"
   ]
  },
  {
   "cell_type": "code",
   "execution_count": 6,
   "id": "d757b81d",
   "metadata": {},
   "outputs": [],
   "source": [
    "country_count=dict(df['country'].value_counts())"
   ]
  },
  {
   "cell_type": "code",
   "execution_count": 7,
   "id": "98e4ccf5",
   "metadata": {},
   "outputs": [],
   "source": [
    "df_country=pd.read_csv(\"D:/DCU/CA682_DataVisualization/Dataset/Segragated_Datasets/Countries and Continents.csv\")"
   ]
  },
  {
   "cell_type": "code",
   "execution_count": 8,
   "id": "c0ffed8f",
   "metadata": {},
   "outputs": [
    {
     "data": {
      "text/plain": [
       "Index(['Country', 'Continent'], dtype='object')"
      ]
     },
     "execution_count": 8,
     "metadata": {},
     "output_type": "execute_result"
    }
   ],
   "source": [
    "df_country.columns"
   ]
  },
  {
   "cell_type": "code",
   "execution_count": 9,
   "id": "f7f50b28",
   "metadata": {},
   "outputs": [],
   "source": [
    "df_map=df_country[['Country','Continent']]"
   ]
  },
  {
   "cell_type": "code",
   "execution_count": 10,
   "id": "649ae33c",
   "metadata": {},
   "outputs": [
    {
     "data": {
      "text/html": [
       "<div>\n",
       "<style scoped>\n",
       "    .dataframe tbody tr th:only-of-type {\n",
       "        vertical-align: middle;\n",
       "    }\n",
       "\n",
       "    .dataframe tbody tr th {\n",
       "        vertical-align: top;\n",
       "    }\n",
       "\n",
       "    .dataframe thead th {\n",
       "        text-align: right;\n",
       "    }\n",
       "</style>\n",
       "<table border=\"1\" class=\"dataframe\">\n",
       "  <thead>\n",
       "    <tr style=\"text-align: right;\">\n",
       "      <th></th>\n",
       "      <th>Country</th>\n",
       "      <th>Continent</th>\n",
       "    </tr>\n",
       "  </thead>\n",
       "  <tbody>\n",
       "    <tr>\n",
       "      <th>0</th>\n",
       "      <td>Afghanistan</td>\n",
       "      <td>Asia</td>\n",
       "    </tr>\n",
       "    <tr>\n",
       "      <th>1</th>\n",
       "      <td>Åland Islands</td>\n",
       "      <td>Europe</td>\n",
       "    </tr>\n",
       "    <tr>\n",
       "      <th>2</th>\n",
       "      <td>Albania</td>\n",
       "      <td>Europe</td>\n",
       "    </tr>\n",
       "    <tr>\n",
       "      <th>3</th>\n",
       "      <td>Algeria</td>\n",
       "      <td>Africa</td>\n",
       "    </tr>\n",
       "    <tr>\n",
       "      <th>4</th>\n",
       "      <td>American Samoa</td>\n",
       "      <td>Oceania</td>\n",
       "    </tr>\n",
       "    <tr>\n",
       "      <th>...</th>\n",
       "      <td>...</td>\n",
       "      <td>...</td>\n",
       "    </tr>\n",
       "    <tr>\n",
       "      <th>285</th>\n",
       "      <td>Russia</td>\n",
       "      <td>Europe</td>\n",
       "    </tr>\n",
       "    <tr>\n",
       "      <th>286</th>\n",
       "      <td>French Equatorial Africa</td>\n",
       "      <td>Africa</td>\n",
       "    </tr>\n",
       "    <tr>\n",
       "      <th>287</th>\n",
       "      <td>Leeward Islands</td>\n",
       "      <td>South America</td>\n",
       "    </tr>\n",
       "    <tr>\n",
       "      <th>288</th>\n",
       "      <td>Iran</td>\n",
       "      <td>Asia</td>\n",
       "    </tr>\n",
       "    <tr>\n",
       "      <th>289</th>\n",
       "      <td>Palau</td>\n",
       "      <td>Oceania</td>\n",
       "    </tr>\n",
       "  </tbody>\n",
       "</table>\n",
       "<p>290 rows × 2 columns</p>\n",
       "</div>"
      ],
      "text/plain": [
       "                      Country      Continent\n",
       "0                 Afghanistan           Asia\n",
       "1               Åland Islands         Europe\n",
       "2                     Albania         Europe\n",
       "3                     Algeria         Africa\n",
       "4              American Samoa        Oceania\n",
       "..                        ...            ...\n",
       "285                    Russia         Europe\n",
       "286  French Equatorial Africa         Africa\n",
       "287           Leeward Islands  South America\n",
       "288                      Iran           Asia\n",
       "289                     Palau        Oceania\n",
       "\n",
       "[290 rows x 2 columns]"
      ]
     },
     "execution_count": 10,
     "metadata": {},
     "output_type": "execute_result"
    }
   ],
   "source": [
    "df_map"
   ]
  },
  {
   "cell_type": "code",
   "execution_count": null,
   "id": "138e9e7d",
   "metadata": {},
   "outputs": [],
   "source": [
    "# # lower_map=lambda x: x.lower()\n",
    "# df_map['Country']=df_map['Country'].apply(lower_map)\n",
    "# df_map['Continent']=df_map['Continent'].apply(lower_map)"
   ]
  },
  {
   "cell_type": "code",
   "execution_count": null,
   "id": "d7c9f6f0",
   "metadata": {},
   "outputs": [],
   "source": [
    "#df_map"
   ]
  },
  {
   "cell_type": "code",
   "execution_count": 11,
   "id": "57299985",
   "metadata": {},
   "outputs": [],
   "source": [
    "def unicode_string(var): \n",
    "    temp=''\n",
    "    for i in var:\n",
    "        if i != ' ':\n",
    "            x=unidecode(i)\n",
    "            temp+=x\n",
    "        else:\n",
    "            temp+=' '\n",
    "    return temp"
   ]
  },
  {
   "cell_type": "code",
   "execution_count": 12,
   "id": "1587299e",
   "metadata": {},
   "outputs": [],
   "source": [
    "country_updt=[]\n",
    "for country in df_map['Country']:\n",
    "    country_clean=unicode_string(list(country))\n",
    "    country_updt+=[country_clean]"
   ]
  },
  {
   "cell_type": "code",
   "execution_count": 13,
   "id": "1aecd460",
   "metadata": {},
   "outputs": [],
   "source": [
    "continent_updt=[]\n",
    "for continent in df_map['Continent']:\n",
    "    continent_clean=unicode_string(list(continent))\n",
    "    continent_updt+=[continent_clean]"
   ]
  },
  {
   "cell_type": "markdown",
   "id": "13de60fb",
   "metadata": {},
   "source": [
    "### Continent Segregation"
   ]
  },
  {
   "cell_type": "code",
   "execution_count": 14,
   "id": "e79579c5",
   "metadata": {},
   "outputs": [
    {
     "name": "stderr",
     "output_type": "stream",
     "text": [
      "<ipython-input-14-77f36bf643a6>:1: DeprecationWarning: The default dtype for empty Series will be 'object' instead of 'float64' in a future version. Specify a dtype explicitly to silence this warning.\n",
      "  df['continent']= pd.Series()\n"
     ]
    }
   ],
   "source": [
    "df['continent']= pd.Series()"
   ]
  },
  {
   "cell_type": "code",
   "execution_count": 15,
   "id": "477a7367",
   "metadata": {},
   "outputs": [
    {
     "name": "stderr",
     "output_type": "stream",
     "text": [
      "<ipython-input-15-9c87ff34f121>:3: SettingWithCopyWarning: \n",
      "A value is trying to be set on a copy of a slice from a DataFrame\n",
      "\n",
      "See the caveats in the documentation: https://pandas.pydata.org/pandas-docs/stable/user_guide/indexing.html#returning-a-view-versus-a-copy\n",
      "  df['continent'][i]=df['country'][i]\n",
      "C:\\Users\\Asus\\anaconda3\\lib\\site-packages\\pandas\\core\\indexing.py:1637: SettingWithCopyWarning: \n",
      "A value is trying to be set on a copy of a slice from a DataFrame\n",
      "\n",
      "See the caveats in the documentation: https://pandas.pydata.org/pandas-docs/stable/user_guide/indexing.html#returning-a-view-versus-a-copy\n",
      "  self._setitem_single_block(indexer, value, name)\n"
     ]
    }
   ],
   "source": [
    "for i in range(len(df['country'])):\n",
    "    if df['country'][i] in continent_updt:\n",
    "        df['continent'][i]=df['country'][i]"
   ]
  },
  {
   "cell_type": "code",
   "execution_count": 16,
   "id": "d0d86f22",
   "metadata": {},
   "outputs": [
    {
     "data": {
      "text/html": [
       "<div>\n",
       "<style scoped>\n",
       "    .dataframe tbody tr th:only-of-type {\n",
       "        vertical-align: middle;\n",
       "    }\n",
       "\n",
       "    .dataframe tbody tr th {\n",
       "        vertical-align: top;\n",
       "    }\n",
       "\n",
       "    .dataframe thead th {\n",
       "        text-align: right;\n",
       "    }\n",
       "</style>\n",
       "<table border=\"1\" class=\"dataframe\">\n",
       "  <thead>\n",
       "    <tr style=\"text-align: right;\">\n",
       "      <th></th>\n",
       "      <th>iso_code</th>\n",
       "      <th>country</th>\n",
       "      <th>year</th>\n",
       "      <th>co2</th>\n",
       "      <th>consumption_co2</th>\n",
       "      <th>co2_growth_prct</th>\n",
       "      <th>co2_growth_abs</th>\n",
       "      <th>trade_co2</th>\n",
       "      <th>co2_per_capita</th>\n",
       "      <th>consumption_co2_per_capita</th>\n",
       "      <th>...</th>\n",
       "      <th>methane</th>\n",
       "      <th>methane_per_capita</th>\n",
       "      <th>nitrous_oxide</th>\n",
       "      <th>nitrous_oxide_per_capita</th>\n",
       "      <th>population</th>\n",
       "      <th>gdp</th>\n",
       "      <th>primary_energy_consumption</th>\n",
       "      <th>energy_per_capita</th>\n",
       "      <th>energy_per_gdp</th>\n",
       "      <th>continent</th>\n",
       "    </tr>\n",
       "  </thead>\n",
       "  <tbody>\n",
       "    <tr>\n",
       "      <th>0</th>\n",
       "      <td>AFG</td>\n",
       "      <td>Afghanistan</td>\n",
       "      <td>1949</td>\n",
       "      <td>0.015</td>\n",
       "      <td>NaN</td>\n",
       "      <td>NaN</td>\n",
       "      <td>NaN</td>\n",
       "      <td>NaN</td>\n",
       "      <td>0.002</td>\n",
       "      <td>NaN</td>\n",
       "      <td>...</td>\n",
       "      <td>NaN</td>\n",
       "      <td>NaN</td>\n",
       "      <td>NaN</td>\n",
       "      <td>NaN</td>\n",
       "      <td>7624058.0</td>\n",
       "      <td>NaN</td>\n",
       "      <td>NaN</td>\n",
       "      <td>NaN</td>\n",
       "      <td>NaN</td>\n",
       "      <td>NaN</td>\n",
       "    </tr>\n",
       "    <tr>\n",
       "      <th>1</th>\n",
       "      <td>AFG</td>\n",
       "      <td>Afghanistan</td>\n",
       "      <td>1950</td>\n",
       "      <td>0.084</td>\n",
       "      <td>NaN</td>\n",
       "      <td>475.00</td>\n",
       "      <td>0.070</td>\n",
       "      <td>NaN</td>\n",
       "      <td>0.011</td>\n",
       "      <td>NaN</td>\n",
       "      <td>...</td>\n",
       "      <td>NaN</td>\n",
       "      <td>NaN</td>\n",
       "      <td>NaN</td>\n",
       "      <td>NaN</td>\n",
       "      <td>7752117.0</td>\n",
       "      <td>9.421400e+09</td>\n",
       "      <td>NaN</td>\n",
       "      <td>NaN</td>\n",
       "      <td>NaN</td>\n",
       "      <td>NaN</td>\n",
       "    </tr>\n",
       "    <tr>\n",
       "      <th>2</th>\n",
       "      <td>AFG</td>\n",
       "      <td>Afghanistan</td>\n",
       "      <td>1951</td>\n",
       "      <td>0.092</td>\n",
       "      <td>NaN</td>\n",
       "      <td>8.70</td>\n",
       "      <td>0.007</td>\n",
       "      <td>NaN</td>\n",
       "      <td>0.012</td>\n",
       "      <td>NaN</td>\n",
       "      <td>...</td>\n",
       "      <td>NaN</td>\n",
       "      <td>NaN</td>\n",
       "      <td>NaN</td>\n",
       "      <td>NaN</td>\n",
       "      <td>7840151.0</td>\n",
       "      <td>9.692280e+09</td>\n",
       "      <td>NaN</td>\n",
       "      <td>NaN</td>\n",
       "      <td>NaN</td>\n",
       "      <td>NaN</td>\n",
       "    </tr>\n",
       "    <tr>\n",
       "      <th>3</th>\n",
       "      <td>AFG</td>\n",
       "      <td>Afghanistan</td>\n",
       "      <td>1952</td>\n",
       "      <td>0.092</td>\n",
       "      <td>NaN</td>\n",
       "      <td>0.00</td>\n",
       "      <td>0.000</td>\n",
       "      <td>NaN</td>\n",
       "      <td>0.012</td>\n",
       "      <td>NaN</td>\n",
       "      <td>...</td>\n",
       "      <td>NaN</td>\n",
       "      <td>NaN</td>\n",
       "      <td>NaN</td>\n",
       "      <td>NaN</td>\n",
       "      <td>7935996.0</td>\n",
       "      <td>1.001732e+10</td>\n",
       "      <td>NaN</td>\n",
       "      <td>NaN</td>\n",
       "      <td>NaN</td>\n",
       "      <td>NaN</td>\n",
       "    </tr>\n",
       "    <tr>\n",
       "      <th>4</th>\n",
       "      <td>AFG</td>\n",
       "      <td>Afghanistan</td>\n",
       "      <td>1953</td>\n",
       "      <td>0.106</td>\n",
       "      <td>NaN</td>\n",
       "      <td>16.00</td>\n",
       "      <td>0.015</td>\n",
       "      <td>NaN</td>\n",
       "      <td>0.013</td>\n",
       "      <td>NaN</td>\n",
       "      <td>...</td>\n",
       "      <td>NaN</td>\n",
       "      <td>NaN</td>\n",
       "      <td>NaN</td>\n",
       "      <td>NaN</td>\n",
       "      <td>8039684.0</td>\n",
       "      <td>1.063052e+10</td>\n",
       "      <td>NaN</td>\n",
       "      <td>NaN</td>\n",
       "      <td>NaN</td>\n",
       "      <td>NaN</td>\n",
       "    </tr>\n",
       "    <tr>\n",
       "      <th>...</th>\n",
       "      <td>...</td>\n",
       "      <td>...</td>\n",
       "      <td>...</td>\n",
       "      <td>...</td>\n",
       "      <td>...</td>\n",
       "      <td>...</td>\n",
       "      <td>...</td>\n",
       "      <td>...</td>\n",
       "      <td>...</td>\n",
       "      <td>...</td>\n",
       "      <td>...</td>\n",
       "      <td>...</td>\n",
       "      <td>...</td>\n",
       "      <td>...</td>\n",
       "      <td>...</td>\n",
       "      <td>...</td>\n",
       "      <td>...</td>\n",
       "      <td>...</td>\n",
       "      <td>...</td>\n",
       "      <td>...</td>\n",
       "      <td>...</td>\n",
       "    </tr>\n",
       "    <tr>\n",
       "      <th>25199</th>\n",
       "      <td>ZWE</td>\n",
       "      <td>Zimbabwe</td>\n",
       "      <td>2016</td>\n",
       "      <td>10.738</td>\n",
       "      <td>12.153</td>\n",
       "      <td>-12.17</td>\n",
       "      <td>-1.488</td>\n",
       "      <td>1.415</td>\n",
       "      <td>0.765</td>\n",
       "      <td>0.866</td>\n",
       "      <td>...</td>\n",
       "      <td>11.92</td>\n",
       "      <td>0.85</td>\n",
       "      <td>6.55</td>\n",
       "      <td>0.467</td>\n",
       "      <td>14030338.0</td>\n",
       "      <td>2.096179e+10</td>\n",
       "      <td>47.5</td>\n",
       "      <td>3385.574</td>\n",
       "      <td>1.889</td>\n",
       "      <td>NaN</td>\n",
       "    </tr>\n",
       "    <tr>\n",
       "      <th>25200</th>\n",
       "      <td>ZWE</td>\n",
       "      <td>Zimbabwe</td>\n",
       "      <td>2017</td>\n",
       "      <td>9.582</td>\n",
       "      <td>11.248</td>\n",
       "      <td>-10.77</td>\n",
       "      <td>-1.156</td>\n",
       "      <td>1.666</td>\n",
       "      <td>0.673</td>\n",
       "      <td>0.790</td>\n",
       "      <td>...</td>\n",
       "      <td>NaN</td>\n",
       "      <td>NaN</td>\n",
       "      <td>NaN</td>\n",
       "      <td>NaN</td>\n",
       "      <td>14236599.0</td>\n",
       "      <td>2.194784e+10</td>\n",
       "      <td>NaN</td>\n",
       "      <td>NaN</td>\n",
       "      <td>NaN</td>\n",
       "      <td>NaN</td>\n",
       "    </tr>\n",
       "    <tr>\n",
       "      <th>25201</th>\n",
       "      <td>ZWE</td>\n",
       "      <td>Zimbabwe</td>\n",
       "      <td>2018</td>\n",
       "      <td>11.854</td>\n",
       "      <td>13.163</td>\n",
       "      <td>23.72</td>\n",
       "      <td>2.273</td>\n",
       "      <td>1.308</td>\n",
       "      <td>0.821</td>\n",
       "      <td>0.912</td>\n",
       "      <td>...</td>\n",
       "      <td>NaN</td>\n",
       "      <td>NaN</td>\n",
       "      <td>NaN</td>\n",
       "      <td>NaN</td>\n",
       "      <td>14438812.0</td>\n",
       "      <td>2.271535e+10</td>\n",
       "      <td>NaN</td>\n",
       "      <td>NaN</td>\n",
       "      <td>NaN</td>\n",
       "      <td>NaN</td>\n",
       "    </tr>\n",
       "    <tr>\n",
       "      <th>25202</th>\n",
       "      <td>ZWE</td>\n",
       "      <td>Zimbabwe</td>\n",
       "      <td>2019</td>\n",
       "      <td>10.949</td>\n",
       "      <td>12.422</td>\n",
       "      <td>-7.64</td>\n",
       "      <td>-0.905</td>\n",
       "      <td>1.473</td>\n",
       "      <td>0.748</td>\n",
       "      <td>0.848</td>\n",
       "      <td>...</td>\n",
       "      <td>NaN</td>\n",
       "      <td>NaN</td>\n",
       "      <td>NaN</td>\n",
       "      <td>NaN</td>\n",
       "      <td>14645473.0</td>\n",
       "      <td>NaN</td>\n",
       "      <td>NaN</td>\n",
       "      <td>NaN</td>\n",
       "      <td>NaN</td>\n",
       "      <td>NaN</td>\n",
       "    </tr>\n",
       "    <tr>\n",
       "      <th>25203</th>\n",
       "      <td>ZWE</td>\n",
       "      <td>Zimbabwe</td>\n",
       "      <td>2020</td>\n",
       "      <td>10.531</td>\n",
       "      <td>NaN</td>\n",
       "      <td>-3.82</td>\n",
       "      <td>-0.418</td>\n",
       "      <td>NaN</td>\n",
       "      <td>0.709</td>\n",
       "      <td>NaN</td>\n",
       "      <td>...</td>\n",
       "      <td>NaN</td>\n",
       "      <td>NaN</td>\n",
       "      <td>NaN</td>\n",
       "      <td>NaN</td>\n",
       "      <td>14862927.0</td>\n",
       "      <td>NaN</td>\n",
       "      <td>NaN</td>\n",
       "      <td>NaN</td>\n",
       "      <td>NaN</td>\n",
       "      <td>NaN</td>\n",
       "    </tr>\n",
       "  </tbody>\n",
       "</table>\n",
       "<p>25204 rows × 59 columns</p>\n",
       "</div>"
      ],
      "text/plain": [
       "      iso_code      country  year     co2  consumption_co2  co2_growth_prct  \\\n",
       "0          AFG  Afghanistan  1949   0.015              NaN              NaN   \n",
       "1          AFG  Afghanistan  1950   0.084              NaN           475.00   \n",
       "2          AFG  Afghanistan  1951   0.092              NaN             8.70   \n",
       "3          AFG  Afghanistan  1952   0.092              NaN             0.00   \n",
       "4          AFG  Afghanistan  1953   0.106              NaN            16.00   \n",
       "...        ...          ...   ...     ...              ...              ...   \n",
       "25199      ZWE     Zimbabwe  2016  10.738           12.153           -12.17   \n",
       "25200      ZWE     Zimbabwe  2017   9.582           11.248           -10.77   \n",
       "25201      ZWE     Zimbabwe  2018  11.854           13.163            23.72   \n",
       "25202      ZWE     Zimbabwe  2019  10.949           12.422            -7.64   \n",
       "25203      ZWE     Zimbabwe  2020  10.531              NaN            -3.82   \n",
       "\n",
       "       co2_growth_abs  trade_co2  co2_per_capita  consumption_co2_per_capita  \\\n",
       "0                 NaN        NaN           0.002                         NaN   \n",
       "1               0.070        NaN           0.011                         NaN   \n",
       "2               0.007        NaN           0.012                         NaN   \n",
       "3               0.000        NaN           0.012                         NaN   \n",
       "4               0.015        NaN           0.013                         NaN   \n",
       "...               ...        ...             ...                         ...   \n",
       "25199          -1.488      1.415           0.765                       0.866   \n",
       "25200          -1.156      1.666           0.673                       0.790   \n",
       "25201           2.273      1.308           0.821                       0.912   \n",
       "25202          -0.905      1.473           0.748                       0.848   \n",
       "25203          -0.418        NaN           0.709                         NaN   \n",
       "\n",
       "       ...  methane  methane_per_capita  nitrous_oxide  \\\n",
       "0      ...      NaN                 NaN            NaN   \n",
       "1      ...      NaN                 NaN            NaN   \n",
       "2      ...      NaN                 NaN            NaN   \n",
       "3      ...      NaN                 NaN            NaN   \n",
       "4      ...      NaN                 NaN            NaN   \n",
       "...    ...      ...                 ...            ...   \n",
       "25199  ...    11.92                0.85           6.55   \n",
       "25200  ...      NaN                 NaN            NaN   \n",
       "25201  ...      NaN                 NaN            NaN   \n",
       "25202  ...      NaN                 NaN            NaN   \n",
       "25203  ...      NaN                 NaN            NaN   \n",
       "\n",
       "       nitrous_oxide_per_capita  population           gdp  \\\n",
       "0                           NaN   7624058.0           NaN   \n",
       "1                           NaN   7752117.0  9.421400e+09   \n",
       "2                           NaN   7840151.0  9.692280e+09   \n",
       "3                           NaN   7935996.0  1.001732e+10   \n",
       "4                           NaN   8039684.0  1.063052e+10   \n",
       "...                         ...         ...           ...   \n",
       "25199                     0.467  14030338.0  2.096179e+10   \n",
       "25200                       NaN  14236599.0  2.194784e+10   \n",
       "25201                       NaN  14438812.0  2.271535e+10   \n",
       "25202                       NaN  14645473.0           NaN   \n",
       "25203                       NaN  14862927.0           NaN   \n",
       "\n",
       "       primary_energy_consumption  energy_per_capita  energy_per_gdp  \\\n",
       "0                             NaN                NaN             NaN   \n",
       "1                             NaN                NaN             NaN   \n",
       "2                             NaN                NaN             NaN   \n",
       "3                             NaN                NaN             NaN   \n",
       "4                             NaN                NaN             NaN   \n",
       "...                           ...                ...             ...   \n",
       "25199                        47.5           3385.574           1.889   \n",
       "25200                         NaN                NaN             NaN   \n",
       "25201                         NaN                NaN             NaN   \n",
       "25202                         NaN                NaN             NaN   \n",
       "25203                         NaN                NaN             NaN   \n",
       "\n",
       "       continent  \n",
       "0            NaN  \n",
       "1            NaN  \n",
       "2            NaN  \n",
       "3            NaN  \n",
       "4            NaN  \n",
       "...          ...  \n",
       "25199        NaN  \n",
       "25200        NaN  \n",
       "25201        NaN  \n",
       "25202        NaN  \n",
       "25203        NaN  \n",
       "\n",
       "[25204 rows x 59 columns]"
      ]
     },
     "execution_count": 16,
     "metadata": {},
     "output_type": "execute_result"
    }
   ],
   "source": [
    "df"
   ]
  },
  {
   "cell_type": "code",
   "execution_count": 17,
   "id": "b89c4de4",
   "metadata": {},
   "outputs": [
    {
     "data": {
      "text/plain": [
       "Europe                        271\n",
       "World                         271\n",
       "Europe (excl. EU-27)          271\n",
       "North America (excl. USA)     236\n",
       "North America                 236\n",
       "Europe (excl. EU-28)          192\n",
       "Asia (excl. China & India)    191\n",
       "Asia                          191\n",
       "Oceania                       161\n",
       "South America                 137\n",
       "Africa                        137\n",
       "Antarctica                     34\n",
       "Name: continent, dtype: int64"
      ]
     },
     "execution_count": 17,
     "metadata": {},
     "output_type": "execute_result"
    }
   ],
   "source": [
    "df['continent'].value_counts()"
   ]
  },
  {
   "cell_type": "code",
   "execution_count": 18,
   "id": "f989e381",
   "metadata": {},
   "outputs": [
    {
     "data": {
      "text/plain": [
       "22876"
      ]
     },
     "execution_count": 18,
     "metadata": {},
     "output_type": "execute_result"
    }
   ],
   "source": [
    "df['continent'].isnull().sum()"
   ]
  },
  {
   "cell_type": "code",
   "execution_count": 19,
   "id": "70bd382b",
   "metadata": {},
   "outputs": [],
   "source": [
    "cc_map= dict(zip(country_updt,continent_updt))"
   ]
  },
  {
   "cell_type": "code",
   "execution_count": 20,
   "id": "8c9107c7",
   "metadata": {},
   "outputs": [
    {
     "data": {
      "text/plain": [
       "{'Afghanistan': 'Asia',\n",
       " 'Aland Islands': 'Europe',\n",
       " 'Albania': 'Europe',\n",
       " 'Algeria': 'Africa',\n",
       " 'American Samoa': 'Oceania',\n",
       " 'Andorra': 'Europe',\n",
       " 'Angola': 'Africa',\n",
       " 'Anguilla': 'North America',\n",
       " 'Antarctica': 'Antarctica',\n",
       " 'Antigua and Barbuda': 'North America',\n",
       " 'Argentina': 'South America',\n",
       " 'Armenia': 'Asia',\n",
       " 'Aruba': 'North America',\n",
       " 'Australia': 'Oceania',\n",
       " 'Austria': 'Europe',\n",
       " 'Azerbaijan': 'Asia',\n",
       " 'Bahamas': 'North America',\n",
       " 'Bahrain': 'Asia',\n",
       " 'Bangladesh': 'Asia',\n",
       " 'Barbados': 'North America',\n",
       " 'Belarus': 'Europe',\n",
       " 'Belgium': 'Europe',\n",
       " 'Belize': 'North America',\n",
       " 'Benin': 'Africa',\n",
       " 'Bermuda': 'North America',\n",
       " 'Bhutan': 'Asia',\n",
       " 'Bolivia (Plurinational State of)': 'South America',\n",
       " 'Bonaire, Sint Eustatius and Saba': 'North America',\n",
       " 'Bosnia and Herzegovina': 'Europe',\n",
       " 'Botswana': 'Africa',\n",
       " 'Bouvet Island': 'South America',\n",
       " 'Brazil': 'South America',\n",
       " 'British Indian Ocean Territory': 'Africa',\n",
       " 'British Virgin Islands': 'North America',\n",
       " 'Brunei Darussalam': 'Asia',\n",
       " 'Bulgaria': 'Europe',\n",
       " 'Burkina Faso': 'Africa',\n",
       " 'Burundi': 'Africa',\n",
       " 'Cabo Verde': 'Africa',\n",
       " 'Cambodia': 'Asia',\n",
       " 'Cameroon': 'Africa',\n",
       " 'Canada': 'North America',\n",
       " 'Cayman Islands': 'North America',\n",
       " 'Central African Republic': 'Africa',\n",
       " 'Chad': 'Africa',\n",
       " 'Chile': 'South America',\n",
       " 'China': 'Asia',\n",
       " 'China, Hong Kong Special Administrative Region': 'Asia',\n",
       " 'China, Macao Special Administrative Region': 'Asia',\n",
       " 'Christmas Island': 'Oceania',\n",
       " 'Cocos (Keeling) Islands': 'Oceania',\n",
       " 'Colombia': 'South America',\n",
       " 'Comoros': 'Africa',\n",
       " 'Congo': 'Africa',\n",
       " 'Cook Islands': 'Oceania',\n",
       " 'Costa Rica': 'North America',\n",
       " \"Cote d'Ivoire\": 'Africa',\n",
       " 'Croatia': 'Europe',\n",
       " 'Cuba': 'North America',\n",
       " 'Curacao': 'North America',\n",
       " 'Cyprus': 'Asia',\n",
       " 'Czechia': 'Europe',\n",
       " \"Democratic People's Republic of Korea\": 'Asia',\n",
       " 'Democratic Republic of the Congo': 'Africa',\n",
       " 'Denmark': 'Europe',\n",
       " 'Djibouti': 'Africa',\n",
       " 'Dominica': 'North America',\n",
       " 'Dominican Republic': 'North America',\n",
       " 'Ecuador': 'South America',\n",
       " 'Egypt': 'Africa',\n",
       " 'El Salvador': 'North America',\n",
       " 'Equatorial Guinea': 'Africa',\n",
       " 'Eritrea': 'Africa',\n",
       " 'Estonia': 'Europe',\n",
       " 'Eswatini': 'Africa',\n",
       " 'Ethiopia': 'Africa',\n",
       " 'Falkland Islands (Malvinas)': 'South America',\n",
       " 'Faroe Islands': 'Europe',\n",
       " 'Fiji': 'Oceania',\n",
       " 'Finland': 'Europe',\n",
       " 'France': 'Europe',\n",
       " 'French Guiana': 'South America',\n",
       " 'French Polynesia': 'Oceania',\n",
       " 'French Southern Territories': 'Africa',\n",
       " 'Gabon': 'Africa',\n",
       " 'Gambia': 'Africa',\n",
       " 'Georgia': 'Asia',\n",
       " 'Germany': 'Europe',\n",
       " 'Ghana': 'Africa',\n",
       " 'Gibraltar': 'Europe',\n",
       " 'Greece': 'Europe',\n",
       " 'Greenland': 'North America',\n",
       " 'Grenada': 'North America',\n",
       " 'Guadeloupe': 'North America',\n",
       " 'Guam': 'Oceania',\n",
       " 'Guatemala': 'North America',\n",
       " 'Guernsey': 'Europe',\n",
       " 'Guinea': 'Africa',\n",
       " 'Guinea-Bissau': 'Africa',\n",
       " 'Guyana': 'South America',\n",
       " 'Haiti': 'North America',\n",
       " 'Heard Island and McDonald Islands': 'Oceania',\n",
       " 'Holy See': 'Europe',\n",
       " 'Honduras': 'North America',\n",
       " 'Hungary': 'Europe',\n",
       " 'Iceland': 'Europe',\n",
       " 'India': 'Asia',\n",
       " 'Indonesia': 'Asia',\n",
       " 'Iran (Islamic Republic of)': 'Asia',\n",
       " 'Iraq': 'Asia',\n",
       " 'Ireland': 'Europe',\n",
       " 'Isle of Man': 'Europe',\n",
       " 'Israel': 'Asia',\n",
       " 'Italy': 'Europe',\n",
       " 'Jamaica': 'North America',\n",
       " 'Japan': 'Asia',\n",
       " 'Jersey': 'Europe',\n",
       " 'Jordan': 'Asia',\n",
       " 'Kazakhstan': 'Asia',\n",
       " 'Kenya': 'Africa',\n",
       " 'Kiribati': 'Oceania',\n",
       " 'Kuwait': 'Asia',\n",
       " 'Kyrgyzstan': 'Asia',\n",
       " \"Lao People's Democratic Republic\": 'Asia',\n",
       " 'Latvia': 'Europe',\n",
       " 'Lebanon': 'Asia',\n",
       " 'Lesotho': 'Africa',\n",
       " 'Liberia': 'Africa',\n",
       " 'Libya': 'Africa',\n",
       " 'Liechtenstein': 'Europe',\n",
       " 'Lithuania': 'Europe',\n",
       " 'Luxembourg': 'Europe',\n",
       " 'Madagascar': 'Africa',\n",
       " 'Malawi': 'Africa',\n",
       " 'Malaysia': 'Asia',\n",
       " 'Maldives': 'Asia',\n",
       " 'Mali': 'Africa',\n",
       " 'Malta': 'Europe',\n",
       " 'Marshall Islands': 'Oceania',\n",
       " 'Martinique': 'North America',\n",
       " 'Mauritania': 'Africa',\n",
       " 'Mauritius': 'Africa',\n",
       " 'Mayotte': 'Africa',\n",
       " 'Mexico': 'North America',\n",
       " 'Micronesia (Federated States of)': 'Oceania',\n",
       " 'Monaco': 'Europe',\n",
       " 'Mongolia': 'Asia',\n",
       " 'Montenegro': 'Europe',\n",
       " 'Montserrat': 'North America',\n",
       " 'Morocco': 'Africa',\n",
       " 'Mozambique': 'Africa',\n",
       " 'Myanmar': 'Asia',\n",
       " 'Namibia': 'Africa',\n",
       " 'Nauru': 'Oceania',\n",
       " 'Nepal': 'Asia',\n",
       " 'Netherlands': 'Europe',\n",
       " 'New Caledonia': 'Oceania',\n",
       " 'New Zealand': 'Oceania',\n",
       " 'Nicaragua': 'North America',\n",
       " 'Niger': 'Africa',\n",
       " 'Nigeria': 'Africa',\n",
       " 'Niue': 'Oceania',\n",
       " 'Norfolk Island': 'Oceania',\n",
       " 'North Macedonia': 'Europe',\n",
       " 'Northern Mariana Islands': 'Oceania',\n",
       " 'Norway': 'Europe',\n",
       " 'Oman': 'Asia',\n",
       " 'Pakistan': 'Asia',\n",
       " 'Palau': 'Oceania',\n",
       " 'Panama': 'North America',\n",
       " 'Papua New Guinea': 'Oceania',\n",
       " 'Paraguay': 'South America',\n",
       " 'Peru': 'South America',\n",
       " 'Philippines': 'Asia',\n",
       " 'Pitcairn': 'Oceania',\n",
       " 'Poland': 'Europe',\n",
       " 'Portugal': 'Europe',\n",
       " 'Puerto Rico': 'North America',\n",
       " 'Qatar': 'Asia',\n",
       " 'Republic of Korea': 'Asia',\n",
       " 'Republic of Moldova': 'Europe',\n",
       " 'Reunion': 'Africa',\n",
       " 'Romania': 'Europe',\n",
       " 'Russian Federation': 'Europe',\n",
       " 'Rwanda': 'Africa',\n",
       " 'Saint Barthelemy': 'North America',\n",
       " 'Saint Helena': 'Africa',\n",
       " 'Saint Kitts and Nevis': 'North America',\n",
       " 'Saint Lucia': 'North America',\n",
       " 'Saint Martin (French Part)': 'North America',\n",
       " 'Saint Pierre and Miquelon': 'North America',\n",
       " 'Saint Vincent and the Grenadines': 'North America',\n",
       " 'Samoa': 'Oceania',\n",
       " 'San Marino': 'Europe',\n",
       " 'Sao Tome and Principe': 'Africa',\n",
       " 'Sark': 'Europe',\n",
       " 'Saudi Arabia': 'Asia',\n",
       " 'Senegal': 'Africa',\n",
       " 'Serbia': 'Europe',\n",
       " 'Seychelles': 'Africa',\n",
       " 'Sierra Leone': 'Africa',\n",
       " 'Singapore': 'Asia',\n",
       " 'Sint Maarten (Dutch part)': 'North America',\n",
       " 'Slovakia': 'Europe',\n",
       " 'Slovenia': 'Europe',\n",
       " 'Solomon Islands': 'Oceania',\n",
       " 'Somalia': 'Africa',\n",
       " 'South Africa': 'Africa',\n",
       " 'South Georgia and the South Sandwich Islands': 'South America',\n",
       " 'South Sudan': 'Africa',\n",
       " 'Spain': 'Europe',\n",
       " 'Sri Lanka': 'Asia',\n",
       " 'State of Palestine': 'Asia',\n",
       " 'Sudan': 'Africa',\n",
       " 'Suriname': 'South America',\n",
       " 'Svalbard and Jan Mayen Islands': 'Europe',\n",
       " 'Sweden': 'Europe',\n",
       " 'Switzerland': 'Europe',\n",
       " 'Syrian Arab Republic': 'Asia',\n",
       " 'Tajikistan': 'Asia',\n",
       " 'Thailand': 'Asia',\n",
       " 'Timor-Leste': 'Asia',\n",
       " 'Togo': 'Africa',\n",
       " 'Tokelau': 'Oceania',\n",
       " 'Tonga': 'Oceania',\n",
       " 'Trinidad and Tobago': 'North America',\n",
       " 'Tunisia': 'Africa',\n",
       " 'Turkey': 'Asia',\n",
       " 'Turkmenistan': 'Asia',\n",
       " 'Turks and Caicos Islands': 'North America',\n",
       " 'Tuvalu': 'Oceania',\n",
       " 'Uganda': 'Africa',\n",
       " 'Ukraine': 'Europe',\n",
       " 'United Arab Emirates': 'Asia',\n",
       " 'United Kingdom of Great Britain and Northern Ireland': 'Europe',\n",
       " 'United Republic of Tanzania': 'Africa',\n",
       " 'United States Minor Outlying Islands': 'Oceania',\n",
       " 'United States of America': 'North America',\n",
       " 'United States Virgin Islands': 'North America',\n",
       " 'Uruguay': 'South America',\n",
       " 'Uzbekistan': 'Asia',\n",
       " 'Vanuatu': 'Oceania',\n",
       " 'Venezuela (Bolivarian Republic of)': 'South America',\n",
       " 'Viet Nam': 'Asia',\n",
       " 'Wallis and Futuna Islands': 'Oceania',\n",
       " 'Western Sahara': 'Africa',\n",
       " 'Yemen': 'Asia',\n",
       " 'Zambia': 'Africa',\n",
       " 'Zimbabwe': 'Africa',\n",
       " 'Bolivia': 'South America',\n",
       " 'Wallis and Futuna': 'Oceania',\n",
       " 'Micronesia (country)': 'Oceania',\n",
       " 'Hong Kong': 'Asia',\n",
       " 'Ryukyu Islands': 'Asia',\n",
       " 'South Korea': 'Asia',\n",
       " 'International transport': 'Europe',\n",
       " 'North Korea': 'Asia',\n",
       " 'Brunei': 'Asia',\n",
       " 'Kosovo': 'Europe',\n",
       " 'United States': 'North America',\n",
       " 'Panama Canal Zone': 'South America',\n",
       " 'Moldova': 'Europe',\n",
       " 'United Kingdom': 'Europe',\n",
       " 'North America (excl. USA)': 'North America (excl. USA)',\n",
       " 'Macao': 'Asia',\n",
       " 'Taiwan': 'Asia',\n",
       " 'Democratic Republic of Congo': 'Africa',\n",
       " 'Syria': 'Asia',\n",
       " 'Venezuela': 'South America',\n",
       " 'French West Africa': 'Africa',\n",
       " 'Faeroe Islands': 'Europe',\n",
       " 'Micronesia': 'Oceania',\n",
       " 'Bonaire Sint Eustatius and Saba': 'South America',\n",
       " 'Europe (excl. EU-28)': 'Europe (excl. EU-28)',\n",
       " 'Europe (excl. EU-27)': 'Europe (excl. EU-27)',\n",
       " 'EU-28': 'Europe',\n",
       " 'EU-27': 'Europe',\n",
       " 'Timor': 'Asia',\n",
       " 'Tanzania': 'Africa',\n",
       " 'Vietnam': 'Asia',\n",
       " 'Laos': 'Asia',\n",
       " 'World': 'World',\n",
       " 'Palestine': 'Asia',\n",
       " 'Cape Verde': 'Africa',\n",
       " 'Asia (excl. China & India)': 'Asia (excl. China & India)',\n",
       " 'Russia': 'Europe',\n",
       " 'French Equatorial Africa': 'Africa',\n",
       " 'Leeward Islands': 'South America',\n",
       " 'Iran': 'Asia'}"
      ]
     },
     "execution_count": 20,
     "metadata": {},
     "output_type": "execute_result"
    }
   ],
   "source": [
    "cc_map"
   ]
  },
  {
   "cell_type": "code",
   "execution_count": 21,
   "id": "af5e7475",
   "metadata": {},
   "outputs": [
    {
     "name": "stdout",
     "output_type": "stream",
     "text": [
      "['North America', 'Europe (excl. EU-28)', 'Europe (excl. EU-27)', 'North America (excl. USA)', 'South America', 'Africa', 'Oceania', 'Europe', 'Asia (excl. China & India)', 'World', 'Antarctica', 'Asia']\n"
     ]
    }
   ],
   "source": [
    "continent_updt_unique=list(set(continent_updt))\n",
    "print(continent_updt_unique)"
   ]
  },
  {
   "cell_type": "code",
   "execution_count": 25,
   "id": "23fb6dd4",
   "metadata": {},
   "outputs": [
    {
     "name": "stderr",
     "output_type": "stream",
     "text": [
      "<ipython-input-25-16cb5ea50d63>:3: SettingWithCopyWarning: \n",
      "A value is trying to be set on a copy of a slice from a DataFrame\n",
      "\n",
      "See the caveats in the documentation: https://pandas.pydata.org/pandas-docs/stable/user_guide/indexing.html#returning-a-view-versus-a-copy\n",
      "  df['continent'][i]=cc_map.get(df['country'][i])\n"
     ]
    }
   ],
   "source": [
    "for i in range(len(df['country'])):\n",
    "    if df['country'][i] in country_updt:\n",
    "        df['continent'][i]=cc_map.get(df['country'][i])"
   ]
  },
  {
   "cell_type": "code",
   "execution_count": 26,
   "id": "0fbaf7cf",
   "metadata": {},
   "outputs": [
    {
     "data": {
      "text/plain": [
       "Europe                        7534\n",
       "Asia                          5587\n",
       "Africa                        4409\n",
       "North America                 3218\n",
       "South America                 1678\n",
       "Oceania                       1489\n",
       "World                          271\n",
       "Europe (excl. EU-27)           271\n",
       "North America (excl. USA)      236\n",
       "Europe (excl. EU-28)           192\n",
       "Asia (excl. China & India)     191\n",
       "Antarctica                      34\n",
       "Name: continent, dtype: int64"
      ]
     },
     "execution_count": 26,
     "metadata": {},
     "output_type": "execute_result"
    }
   ],
   "source": [
    "df['continent'].value_counts()"
   ]
  },
  {
   "cell_type": "code",
   "execution_count": 27,
   "id": "037315f8",
   "metadata": {},
   "outputs": [
    {
     "data": {
      "text/plain": [
       "array(['Asia', 'Africa', 'Europe', 'North America', 'Antarctica',\n",
       "       'South America', 'Asia (excl. China & India)', 'Oceania',\n",
       "       'Europe (excl. EU-27)', 'Europe (excl. EU-28)', nan,\n",
       "       'North America (excl. USA)', 'World'], dtype=object)"
      ]
     },
     "execution_count": 27,
     "metadata": {},
     "output_type": "execute_result"
    }
   ],
   "source": [
    "df['continent'].unique()"
   ]
  },
  {
   "cell_type": "code",
   "execution_count": 28,
   "id": "1ef29213",
   "metadata": {},
   "outputs": [
    {
     "data": {
      "text/plain": [
       "94"
      ]
     },
     "execution_count": 28,
     "metadata": {},
     "output_type": "execute_result"
    }
   ],
   "source": [
    "df['continent'].isnull().sum()"
   ]
  },
  {
   "cell_type": "code",
   "execution_count": 29,
   "id": "e4faa661",
   "metadata": {},
   "outputs": [],
   "source": [
    "empty_list=[]\n",
    "for i in range(len(df['continent'])):\n",
    "    if type(df['continent'][i]) == float:\n",
    "        empty_list.append(i)"
   ]
  },
  {
   "cell_type": "code",
   "execution_count": 30,
   "id": "64e51590",
   "metadata": {},
   "outputs": [
    {
     "data": {
      "text/plain": [
       "94"
      ]
     },
     "execution_count": 30,
     "metadata": {},
     "output_type": "execute_result"
    }
   ],
   "source": [
    "len(empty_list)"
   ]
  },
  {
   "cell_type": "code",
   "execution_count": 31,
   "id": "99a64592",
   "metadata": {},
   "outputs": [
    {
     "name": "stdout",
     "output_type": "stream",
     "text": [
      "['St. Kitts-Nevis-Anguilla', 'Kuwaiti Oil Fires']\n"
     ]
    }
   ],
   "source": [
    "empty_cat=[]\n",
    "for i in range(len(df['country'])):\n",
    "    if i in empty_list:\n",
    "        empty_cat.append(df['country'][i])\n",
    "print(list(set(empty_cat)))"
   ]
  },
  {
   "cell_type": "code",
   "execution_count": 32,
   "id": "97142902",
   "metadata": {},
   "outputs": [],
   "source": [
    "df.drop(df.loc[df['country']=='St. Kitts-Nevis-Anguilla'].index, inplace=True)"
   ]
  },
  {
   "cell_type": "code",
   "execution_count": 33,
   "id": "9fd5ef6f",
   "metadata": {},
   "outputs": [],
   "source": [
    "df.drop(df.loc[df['country']=='Kuwaiti Oil Fires'].index, inplace=True)"
   ]
  },
  {
   "cell_type": "code",
   "execution_count": 34,
   "id": "94711908",
   "metadata": {},
   "outputs": [
    {
     "data": {
      "text/plain": [
       "0"
      ]
     },
     "execution_count": 34,
     "metadata": {},
     "output_type": "execute_result"
    }
   ],
   "source": [
    "df['continent'].isnull().sum()"
   ]
  },
  {
   "cell_type": "code",
   "execution_count": 35,
   "id": "d4c84272",
   "metadata": {},
   "outputs": [],
   "source": [
    "df.to_csv('D:/DCU/CA682_DataVisualization/Dataset/Final_Cleaned_CO2Emssion.csv',index=False)"
   ]
  }
 ],
 "metadata": {
  "kernelspec": {
   "display_name": "Python 3",
   "language": "python",
   "name": "python3"
  },
  "language_info": {
   "codemirror_mode": {
    "name": "ipython",
    "version": 3
   },
   "file_extension": ".py",
   "mimetype": "text/x-python",
   "name": "python",
   "nbconvert_exporter": "python",
   "pygments_lexer": "ipython3",
   "version": "3.8.8"
  }
 },
 "nbformat": 4,
 "nbformat_minor": 5
}
