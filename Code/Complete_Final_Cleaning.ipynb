{
 "cells": [
  {
   "cell_type": "markdown",
   "id": "483b398f",
   "metadata": {},
   "source": [
    "### Final DataCleaning of Countries and Continents Dataset"
   ]
  },
  {
   "cell_type": "code",
   "execution_count": 1,
   "id": "a272c216",
   "metadata": {},
   "outputs": [],
   "source": [
    "import pandas as pd\n",
    "import numpy as np\n",
    "import matplotlib.pyplot as mp\n",
    "import seaborn as sns\n",
    "import io\n",
    "import requests\n",
    "from unidecode import unidecode\n",
    "%matplotlib inline"
   ]
  },
  {
   "cell_type": "code",
   "execution_count": 2,
   "id": "fa17c65e",
   "metadata": {},
   "outputs": [],
   "source": [
    "df = pd.read_csv('D:/DCU/CA682_DataVisualization/Cleaned_Datasets/Intermediate/OnlyCountry_CO2Emission.csv')"
   ]
  },
  {
   "cell_type": "code",
   "execution_count": 3,
   "id": "f1846a3c",
   "metadata": {},
   "outputs": [],
   "source": [
    "df1 = pd.read_csv('D:/DCU/CA682_DataVisualization/Cleaned_Datasets/Intermediate/OnlyContinent_CO2Emission.csv')"
   ]
  },
  {
   "cell_type": "code",
   "execution_count": 4,
   "id": "91751e83",
   "metadata": {},
   "outputs": [
    {
     "data": {
      "text/plain": [
       "230"
      ]
     },
     "execution_count": 4,
     "metadata": {},
     "output_type": "execute_result"
    }
   ],
   "source": [
    "len(df['country'].unique())"
   ]
  },
  {
   "cell_type": "code",
   "execution_count": 5,
   "id": "f5f45386",
   "metadata": {},
   "outputs": [
    {
     "data": {
      "text/plain": [
       "12"
      ]
     },
     "execution_count": 5,
     "metadata": {},
     "output_type": "execute_result"
    }
   ],
   "source": [
    "len(df1['continent'].unique())"
   ]
  },
  {
   "cell_type": "code",
   "execution_count": 6,
   "id": "f3c1eb28",
   "metadata": {},
   "outputs": [],
   "source": [
    "country_year_data = {}\n",
    "for unique_country in df['country'].unique():\n",
    "    for country,year in zip(df['country'],df['year']):\n",
    "        if unique_country.lower() == country.lower():\n",
    "            if country.lower() not in country_year_data:\n",
    "                country_year_data[country.lower()] = [year]\n",
    "            else:\n",
    "                country_year_data[country.lower()].append(year)\n",
    "            "
   ]
  },
  {
   "cell_type": "code",
   "execution_count": 7,
   "id": "79b54c92",
   "metadata": {},
   "outputs": [],
   "source": [
    "continent_year_data = {}\n",
    "for unique_continent in df1['continent'].unique():\n",
    "    for continent,year in zip(df1['continent'],df1['year']):\n",
    "        if unique_continent.lower() == continent.lower():\n",
    "            if continent.lower() not in continent_year_data:\n",
    "                continent_year_data[continent.lower()] = [year]\n",
    "            else:\n",
    "                continent_year_data[continent.lower()].append(year)\n",
    "            "
   ]
  },
  {
   "cell_type": "code",
   "execution_count": 8,
   "id": "c35b7b49",
   "metadata": {},
   "outputs": [
    {
     "name": "stdout",
     "output_type": "stream",
     "text": [
      "kosovo 2008\n",
      "kosovo 2008\n",
      "kosovo 2008\n",
      "kosovo 2008\n",
      "kosovo 2008\n",
      "kosovo 2008\n",
      "kosovo 2008\n",
      "kosovo 2008\n",
      "kosovo 2008\n",
      "kosovo 2008\n",
      "kosovo 2008\n",
      "kosovo 2008\n",
      "kosovo 2008\n",
      "micronesia 1990\n",
      "micronesia 1990\n",
      "micronesia 1990\n",
      "micronesia 1990\n",
      "timor 2002\n",
      "timor 2002\n",
      "timor 2002\n",
      "timor 2002\n",
      "timor 2002\n",
      "timor 2002\n",
      "timor 2002\n",
      "wallis and futuna 2001\n",
      "wallis and futuna 2001\n",
      "wallis and futuna 2001\n",
      "wallis and futuna 2001\n",
      "wallis and futuna 2001\n",
      "wallis and futuna 2001\n"
     ]
    }
   ],
   "source": [
    "unique_year=[1995,1996,1997,1998,1999,2000,2001,2002,2003,2004,2005,2006,2007,2008,2009,2010,2011,2012,2013,2014,2015,2016,2017,2018,2019,2020]\n",
    "for k,v in country_year_data.items():\n",
    "    for i in unique_year:\n",
    "        if i not in v:\n",
    "            print(k,min(v))"
   ]
  },
  {
   "cell_type": "code",
   "execution_count": 9,
   "id": "30367788",
   "metadata": {},
   "outputs": [],
   "source": [
    "unique_year_con=[1995,1996,1997,1998,1999,2000,2001,2002,2003,2004,2005,2006,2007,2008,2009,2010,2011,2012,2013,2014,2015,2016,2017,2018,2019,2020]\n",
    "for k1,v1 in continent_year_data.items():\n",
    "    for i in unique_year_con:\n",
    "        if i not in v1:\n",
    "            print(k1,min(v1))"
   ]
  },
  {
   "cell_type": "code",
   "execution_count": 10,
   "id": "c80c3c65",
   "metadata": {},
   "outputs": [
    {
     "name": "stdout",
     "output_type": "stream",
     "text": [
      "27\n"
     ]
    }
   ],
   "source": [
    "for k,v in dict(df['country'].value_counts()).items():\n",
    "    if k.lower() == 'micronesia':\n",
    "        print(v)"
   ]
  },
  {
   "cell_type": "code",
   "execution_count": 11,
   "id": "d91dbca5",
   "metadata": {},
   "outputs": [
    {
     "name": "stdout",
     "output_type": "stream",
     "text": [
      "13\n"
     ]
    }
   ],
   "source": [
    "for k,v in dict(df['country'].value_counts()).items():\n",
    "    if k.lower() == 'kosovo':\n",
    "        print(v)"
   ]
  },
  {
   "cell_type": "code",
   "execution_count": 12,
   "id": "294f6252",
   "metadata": {},
   "outputs": [
    {
     "name": "stdout",
     "output_type": "stream",
     "text": [
      "19\n"
     ]
    }
   ],
   "source": [
    "for k,v in dict(df['country'].value_counts()).items():\n",
    "    if k.lower() == 'timor':\n",
    "        print(v)"
   ]
  },
  {
   "cell_type": "code",
   "execution_count": 13,
   "id": "85e0a116",
   "metadata": {},
   "outputs": [
    {
     "name": "stdout",
     "output_type": "stream",
     "text": [
      "20\n"
     ]
    }
   ],
   "source": [
    "for k,v in dict(df['country'].value_counts()).items():\n",
    "    if k.lower() == 'wallis and futuna':\n",
    "        print(v)"
   ]
  },
  {
   "cell_type": "code",
   "execution_count": 14,
   "id": "3203898a",
   "metadata": {},
   "outputs": [],
   "source": [
    "df.drop(df.loc[df['country']=='Wallis and Futuna'].index,inplace=True)"
   ]
  },
  {
   "cell_type": "code",
   "execution_count": 15,
   "id": "7143472b",
   "metadata": {},
   "outputs": [],
   "source": [
    "df.drop(df.loc[df['country']=='Timor'].index,inplace=True)"
   ]
  },
  {
   "cell_type": "code",
   "execution_count": 16,
   "id": "00ae8477",
   "metadata": {},
   "outputs": [],
   "source": [
    "df.drop(df.loc[df['country']=='Kosovo'].index,inplace=True)"
   ]
  },
  {
   "cell_type": "code",
   "execution_count": 17,
   "id": "85599859",
   "metadata": {},
   "outputs": [],
   "source": [
    "df.drop(df.loc[df['country']=='Micronesia'].index,inplace=True)"
   ]
  },
  {
   "cell_type": "code",
   "execution_count": 18,
   "id": "c39eaae1",
   "metadata": {},
   "outputs": [
    {
     "data": {
      "text/plain": [
       "(22703, 58)"
      ]
     },
     "execution_count": 18,
     "metadata": {},
     "output_type": "execute_result"
    }
   ],
   "source": [
    "df.shape"
   ]
  },
  {
   "cell_type": "code",
   "execution_count": 19,
   "id": "bb38edd5",
   "metadata": {},
   "outputs": [
    {
     "data": {
      "text/plain": [
       "(25110, 57)"
      ]
     },
     "execution_count": 19,
     "metadata": {},
     "output_type": "execute_result"
    }
   ],
   "source": [
    "df1.shape"
   ]
  },
  {
   "cell_type": "code",
   "execution_count": 20,
   "id": "d64679f2",
   "metadata": {},
   "outputs": [],
   "source": [
    "drop_index_list=[]\n",
    "for i in range(len(df['year'])):\n",
    "    if df['year'].iloc[i] < 1995:\n",
    "        drop_index_list.append(i)"
   ]
  },
  {
   "cell_type": "code",
   "execution_count": 21,
   "id": "55e99e53",
   "metadata": {},
   "outputs": [],
   "source": [
    "df.drop(df.index[drop_index_list], inplace=True)"
   ]
  },
  {
   "cell_type": "code",
   "execution_count": 22,
   "id": "b15b3103",
   "metadata": {},
   "outputs": [
    {
     "data": {
      "text/plain": [
       "(5876, 58)"
      ]
     },
     "execution_count": 22,
     "metadata": {},
     "output_type": "execute_result"
    }
   ],
   "source": [
    "df.shape"
   ]
  },
  {
   "cell_type": "code",
   "execution_count": 23,
   "id": "6606194f",
   "metadata": {},
   "outputs": [],
   "source": [
    "drop_index_list1=[]\n",
    "for i in range(len(df1['year'])):\n",
    "    if df1['year'].iloc[i] < 1995:\n",
    "        drop_index_list1.append(i)"
   ]
  },
  {
   "cell_type": "code",
   "execution_count": 24,
   "id": "6fc898ca",
   "metadata": {},
   "outputs": [],
   "source": [
    "df1.drop(df1.index[drop_index_list1], inplace=True)"
   ]
  },
  {
   "cell_type": "code",
   "execution_count": 25,
   "id": "449f926e",
   "metadata": {},
   "outputs": [
    {
     "data": {
      "text/plain": [
       "(6262, 57)"
      ]
     },
     "execution_count": 25,
     "metadata": {},
     "output_type": "execute_result"
    }
   ],
   "source": [
    "df1.shape"
   ]
  },
  {
   "cell_type": "code",
   "execution_count": 26,
   "id": "b485ce5e",
   "metadata": {},
   "outputs": [],
   "source": [
    "#Dropping unnecessary columns from Country and Continent dataset:\n",
    "df.drop(['trade_co2','trade_co2_share','share_global_co2','share_global_cumulative_co2','share_global_coal_co2','share_global_oil_co2','share_global_gas_co2','share_global_flaring_co2','share_global_cement_co2','share_global_other_co2','share_global_cumulative_coal_co2','share_global_cumulative_oil_co2','share_global_cumulative_gas_co2','share_global_cumulative_flaring_co2','share_global_cumulative_cement_co2','share_global_cumulative_other_co2'],axis=1,inplace=True)"
   ]
  },
  {
   "cell_type": "code",
   "execution_count": 27,
   "id": "f76dc32a",
   "metadata": {},
   "outputs": [
    {
     "data": {
      "text/plain": [
       "(5876, 42)"
      ]
     },
     "execution_count": 27,
     "metadata": {},
     "output_type": "execute_result"
    }
   ],
   "source": [
    "df.shape"
   ]
  },
  {
   "cell_type": "code",
   "execution_count": 28,
   "id": "e3017050",
   "metadata": {},
   "outputs": [],
   "source": [
    "# Dropping columns from Continent dataset\n",
    "df1.drop(['trade_co2','trade_co2_share','share_global_co2','share_global_cumulative_co2','share_global_coal_co2','share_global_oil_co2','share_global_gas_co2','share_global_flaring_co2','share_global_cement_co2','share_global_other_co2','share_global_cumulative_coal_co2','share_global_cumulative_oil_co2','share_global_cumulative_gas_co2','share_global_cumulative_flaring_co2','share_global_cumulative_cement_co2','share_global_cumulative_other_co2'],axis=1,inplace=True)"
   ]
  },
  {
   "cell_type": "code",
   "execution_count": 29,
   "id": "da29a65d",
   "metadata": {},
   "outputs": [
    {
     "data": {
      "text/plain": [
       "(6262, 41)"
      ]
     },
     "execution_count": 29,
     "metadata": {},
     "output_type": "execute_result"
    }
   ],
   "source": [
    "df1.shape"
   ]
  },
  {
   "cell_type": "code",
   "execution_count": 30,
   "id": "08081af4",
   "metadata": {},
   "outputs": [],
   "source": [
    "df.to_csv('D:/DCU/CA682_DataVisualization/Cleaned_Datasets/Final/Country.csv', index=False)"
   ]
  },
  {
   "cell_type": "code",
   "execution_count": 31,
   "id": "9da9eccb",
   "metadata": {},
   "outputs": [],
   "source": [
    "df1.to_csv('D:/DCU/CA682_DataVisualization/Cleaned_Datasets/Final/Continent.csv', index=False)"
   ]
  },
  {
   "cell_type": "markdown",
   "id": "bc77d097",
   "metadata": {},
   "source": [
    "### Cleaning the section of Net-Status Zero"
   ]
  },
  {
   "cell_type": "code",
   "execution_count": 32,
   "id": "ac58e49b",
   "metadata": {},
   "outputs": [],
   "source": [
    "df_status = pd.read_csv('D:/DCU/CA682_DataVisualization/Cleaned_Datasets/Intermediate/CO2_NetZero_Target.csv')"
   ]
  },
  {
   "cell_type": "code",
   "execution_count": 33,
   "id": "bbe40bd6",
   "metadata": {},
   "outputs": [],
   "source": [
    "df_status.rename(columns={'Entity' : 'country', 'Year_x' : 'target_year','Status of net-zero target' : 'status','Is there a net-zero target?':'net-zero target?'},inplace=True)"
   ]
  },
  {
   "cell_type": "code",
   "execution_count": 34,
   "id": "5fe7708d",
   "metadata": {},
   "outputs": [
    {
     "data": {
      "text/html": [
       "<div>\n",
       "<style scoped>\n",
       "    .dataframe tbody tr th:only-of-type {\n",
       "        vertical-align: middle;\n",
       "    }\n",
       "\n",
       "    .dataframe tbody tr th {\n",
       "        vertical-align: top;\n",
       "    }\n",
       "\n",
       "    .dataframe thead th {\n",
       "        text-align: right;\n",
       "    }\n",
       "</style>\n",
       "<table border=\"1\" class=\"dataframe\">\n",
       "  <thead>\n",
       "    <tr style=\"text-align: right;\">\n",
       "      <th></th>\n",
       "      <th>country</th>\n",
       "      <th>target_year</th>\n",
       "      <th>status</th>\n",
       "      <th>net-zero target?</th>\n",
       "    </tr>\n",
       "  </thead>\n",
       "  <tbody>\n",
       "    <tr>\n",
       "      <th>0</th>\n",
       "      <td>Antigua and Barbuda</td>\n",
       "      <td>2040</td>\n",
       "      <td>In policy document</td>\n",
       "      <td>Yes</td>\n",
       "    </tr>\n",
       "    <tr>\n",
       "      <th>1</th>\n",
       "      <td>Australia</td>\n",
       "      <td>2050</td>\n",
       "      <td>Pledge</td>\n",
       "      <td>Yes</td>\n",
       "    </tr>\n",
       "    <tr>\n",
       "      <th>2</th>\n",
       "      <td>Austria</td>\n",
       "      <td>2040</td>\n",
       "      <td>In policy document</td>\n",
       "      <td>Yes</td>\n",
       "    </tr>\n",
       "    <tr>\n",
       "      <th>3</th>\n",
       "      <td>Bahrain</td>\n",
       "      <td>2060</td>\n",
       "      <td>Pledge</td>\n",
       "      <td>Yes</td>\n",
       "    </tr>\n",
       "    <tr>\n",
       "      <th>4</th>\n",
       "      <td>Barbados</td>\n",
       "      <td>2030</td>\n",
       "      <td>In policy document</td>\n",
       "      <td>Yes</td>\n",
       "    </tr>\n",
       "    <tr>\n",
       "      <th>...</th>\n",
       "      <td>...</td>\n",
       "      <td>...</td>\n",
       "      <td>...</td>\n",
       "      <td>...</td>\n",
       "    </tr>\n",
       "    <tr>\n",
       "      <th>61</th>\n",
       "      <td>United Arab Emirates</td>\n",
       "      <td>2050</td>\n",
       "      <td>Pledge</td>\n",
       "      <td>Yes</td>\n",
       "    </tr>\n",
       "    <tr>\n",
       "      <th>62</th>\n",
       "      <td>United Kingdom</td>\n",
       "      <td>2050</td>\n",
       "      <td>In law</td>\n",
       "      <td>Yes</td>\n",
       "    </tr>\n",
       "    <tr>\n",
       "      <th>63</th>\n",
       "      <td>United States</td>\n",
       "      <td>2050</td>\n",
       "      <td>Pledge</td>\n",
       "      <td>Yes</td>\n",
       "    </tr>\n",
       "    <tr>\n",
       "      <th>64</th>\n",
       "      <td>Uruguay</td>\n",
       "      <td>2050</td>\n",
       "      <td>In policy document</td>\n",
       "      <td>Yes</td>\n",
       "    </tr>\n",
       "    <tr>\n",
       "      <th>65</th>\n",
       "      <td>Vietnam</td>\n",
       "      <td>2050</td>\n",
       "      <td>Pledge</td>\n",
       "      <td>Yes</td>\n",
       "    </tr>\n",
       "  </tbody>\n",
       "</table>\n",
       "<p>66 rows × 4 columns</p>\n",
       "</div>"
      ],
      "text/plain": [
       "                 country  target_year              status net-zero target?\n",
       "0    Antigua and Barbuda         2040  In policy document              Yes\n",
       "1              Australia         2050              Pledge              Yes\n",
       "2                Austria         2040  In policy document              Yes\n",
       "3                Bahrain         2060              Pledge              Yes\n",
       "4               Barbados         2030  In policy document              Yes\n",
       "..                   ...          ...                 ...              ...\n",
       "61  United Arab Emirates         2050              Pledge              Yes\n",
       "62        United Kingdom         2050              In law              Yes\n",
       "63         United States         2050              Pledge              Yes\n",
       "64               Uruguay         2050  In policy document              Yes\n",
       "65               Vietnam         2050              Pledge              Yes\n",
       "\n",
       "[66 rows x 4 columns]"
      ]
     },
     "execution_count": 34,
     "metadata": {},
     "output_type": "execute_result"
    }
   ],
   "source": [
    "df_status"
   ]
  },
  {
   "cell_type": "code",
   "execution_count": 35,
   "id": "ec0b12d4",
   "metadata": {},
   "outputs": [],
   "source": [
    "df_status.to_csv('D:/DCU/CA682_DataVisualization/Cleaned_Datasets/Final/netZero_CO2.csv',index=False)"
   ]
  }
 ],
 "metadata": {
  "kernelspec": {
   "display_name": "Python 3",
   "language": "python",
   "name": "python3"
  },
  "language_info": {
   "codemirror_mode": {
    "name": "ipython",
    "version": 3
   },
   "file_extension": ".py",
   "mimetype": "text/x-python",
   "name": "python",
   "nbconvert_exporter": "python",
   "pygments_lexer": "ipython3",
   "version": "3.8.8"
  }
 },
 "nbformat": 4,
 "nbformat_minor": 5
}
